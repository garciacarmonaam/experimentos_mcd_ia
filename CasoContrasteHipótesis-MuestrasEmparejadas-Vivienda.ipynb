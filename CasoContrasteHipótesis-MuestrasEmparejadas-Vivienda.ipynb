{
 "cells": [
  {
   "cell_type": "markdown",
   "id": "7f4e2b35",
   "metadata": {},
   "source": [
    "# CASO PRÁCTICO SOBRE ANÁLISIS ESTADÍSTICO\n",
    "## CONTRASTES DE HIPÓTESIS, FACETAS DESCRIPTIVAS Y PROMPTING"
   ]
  },
  {
   "cell_type": "markdown",
   "id": "6b215524",
   "metadata": {},
   "source": [
    "El presente caso práctico pretende cubrir los siguientes puntos, por medio de las librerías Matplotlib, SciPy, NumPy y la API de OpenAI:\n",
    "\n",
    "- Generación de muestras aleatorias\n",
    "- Contrastes paramétricos sobre muestras emparejadas\n",
    "- Contrastes no paramétricos\n",
    "- Generación de gráficas\n",
    "- Elaboración de prompts y regulación de la creatividad generativa"
   ]
  },
  {
   "cell_type": "code",
   "execution_count": 77,
   "id": "532f42d9",
   "metadata": {},
   "outputs": [],
   "source": [
    "#!pip install openai"
   ]
  },
  {
   "cell_type": "code",
   "execution_count": 2,
   "id": "a5ab1e08",
   "metadata": {},
   "outputs": [],
   "source": [
    "from openai import OpenAI\n",
    "import os\n",
    "import matplotlib.pyplot as plt\n",
    "import pandas as pd\n",
    "import scipy as sci\n",
    "import numpy as np"
   ]
  },
  {
   "cell_type": "markdown",
   "id": "c69b2dac",
   "metadata": {},
   "source": [
    "Una vez que se importan las librerías y módulos necesarios, se definen las instancias y funciones que necesitaremos a la hora de lanzar prompts desde el notebook:"
   ]
  },
  {
   "cell_type": "code",
   "execution_count": 74,
   "id": "4f195d7a",
   "metadata": {},
   "outputs": [],
   "source": [
    "#os.environ['OPENAI_API_KEY'] = '{ESCRIBIR UNA CLAVE DE AUTENTICACIÓN API}' -> https://platform.openai.com/api-keys\n",
    "\n",
    "client = OpenAI(api_key=os.environ.get(\"OPENAI_API_KEY\"))\n",
    "\n",
    "def raiseQuestion_Prompting(prompt, temp):\n",
    "    completion = client.chat.completions.create(\n",
    "      model=\"gpt-3.5-turbo\",\n",
    "      messages=[\n",
    "        {\"role\": \"user\", \"content\": prompt}\n",
    "      ],\n",
    "      temperature=temp\n",
    "    )\n",
    "    return completion.choices[0].message"
   ]
  },
  {
   "cell_type": "markdown",
   "id": "e0c09b22",
   "metadata": {},
   "source": [
    "## CÁLCULO DE ESTADÍSTICOS"
   ]
  },
  {
   "cell_type": "markdown",
   "id": "9ae0fae8",
   "metadata": {},
   "source": [
    "Se generarán dos muestras aleatorio. El contexto propuesto serán **los precios de una serie de viviendas (muestra aleatoria) tanto antes como después** de aplicar una política concreta con ciertas **repercusiones en el mercado inmobiliario de la urbe**."
   ]
  },
  {
   "cell_type": "code",
   "execution_count": 4,
   "id": "450abbd8",
   "metadata": {},
   "outputs": [],
   "source": [
    "precios_muestra_1 = np.random.randint(350000, 450001, size=30)\n",
    "precios_muestra_2 = np.random.randint(300000, 380001, size=30)\n",
    "\n",
    "dataset_completo = np.vstack([precios_muestra_1, precios_muestra_2])"
   ]
  },
  {
   "cell_type": "markdown",
   "id": "dec936a6",
   "metadata": {},
   "source": [
    "Se calculará un contraste de hipótesis para dos muestras emparejadas.\n",
    "\n",
    "Para ello, se aplicará el t-test, que guarda relación con **la distribución t-Student**, derivada de la distribución normal. Hay una mayor robustez a la no normalidad y, aparte de tener muestras no muy grandes, **desconocemos la varianza poblacional**.\n",
    "\n",
    "Precisamente, se quiere contrastar si las políticas aplicadas han resultado en **un descenso de los precios**. Por ello, se aplicará **un contraste de hipótesis de cola derecha**. \n",
    "\n",
    "La hipótesis alternativa sugeriría **una diferencia positiva entre los promedios previo y posterior a la política aplicada**."
   ]
  },
  {
   "cell_type": "code",
   "execution_count": 5,
   "id": "7201f142",
   "metadata": {},
   "outputs": [],
   "source": [
    "res1 = sci.stats.ttest_rel(dataset_completo[0], dataset_completo[1], axis=0, alternative='greater')"
   ]
  },
  {
   "cell_type": "code",
   "execution_count": 6,
   "id": "3cc4b20c",
   "metadata": {},
   "outputs": [
    {
     "name": "stdout",
     "output_type": "stream",
     "text": [
      "TtestResult(statistic=9.091722694023439, pvalue=2.733791831725714e-10, df=29)\n"
     ]
    }
   ],
   "source": [
    "print(res1)"
   ]
  },
  {
   "cell_type": "markdown",
   "id": "e1802c8c",
   "metadata": {},
   "source": [
    "En caso de querer contrastar que no ha habido descenso, habrá que aplicar **un contraste de cola izquierda** (la hipótesis alternativa sugeriría **una diferencia negativa entre los promedios previo y posterior a la política aplicada**)."
   ]
  },
  {
   "cell_type": "code",
   "execution_count": 7,
   "id": "0b1062b0",
   "metadata": {},
   "outputs": [],
   "source": [
    "res2 = sci.stats.ttest_rel(dataset_completo[0], dataset_completo[1], axis=0, alternative='less')"
   ]
  },
  {
   "cell_type": "code",
   "execution_count": 8,
   "id": "9d58272d",
   "metadata": {},
   "outputs": [
    {
     "name": "stdout",
     "output_type": "stream",
     "text": [
      "TtestResult(statistic=9.091722694023439, pvalue=0.9999999997266208, df=29)\n"
     ]
    }
   ],
   "source": [
    "print(res2)"
   ]
  },
  {
   "cell_type": "markdown",
   "id": "1f7df858",
   "metadata": {},
   "source": [
    "Si se contrastase que **hubiera una diferencia sin más**, habría que aplicar **un contraste bilateral** (la hipótesis alternativa nos sugeriría **una mera diferencia** entre promedios)."
   ]
  },
  {
   "cell_type": "code",
   "execution_count": 22,
   "id": "92628c01",
   "metadata": {},
   "outputs": [],
   "source": [
    "res3 = sci.stats.ttest_rel(dataset_completo[0], dataset_completo[1], axis=0, alternative='two-sided')"
   ]
  },
  {
   "cell_type": "code",
   "execution_count": 23,
   "id": "5c5014cf",
   "metadata": {},
   "outputs": [
    {
     "name": "stdout",
     "output_type": "stream",
     "text": [
      "TtestResult(statistic=9.091722694023439, pvalue=5.467583663451428e-10, df=29)\n"
     ]
    }
   ],
   "source": [
    "print(res3)"
   ]
  },
  {
   "cell_type": "markdown",
   "id": "4d7f4a7d",
   "metadata": {},
   "source": [
    "Detectamos ahora **los intervalos de confianza en cada escenario, con niveles de significación del 5%**."
   ]
  },
  {
   "cell_type": "code",
   "execution_count": 11,
   "id": "be11042c",
   "metadata": {},
   "outputs": [
    {
     "name": "stdout",
     "output_type": "stream",
     "text": [
      "ConfidenceInterval(low=51209.461719129955, high=inf)\n",
      "ConfidenceInterval(low=-inf, high=74749.60494753672)\n",
      "ConfidenceInterval(low=-inf, high=74749.60494753672)\n"
     ]
    }
   ],
   "source": [
    "print(res1.confidence_interval(confidence_level=0.95))\n",
    "print(res2.confidence_interval(confidence_level=0.95))\n",
    "print(res3.confidence_interval(confidence_level=0.95))"
   ]
  },
  {
   "cell_type": "markdown",
   "id": "8359d9d4",
   "metadata": {},
   "source": [
    "Generamos unos **histogramas de frecuencias**, con una curva gaussiana.\n",
    "\n",
    "Primero trabajaremos con la muestra pre-política y después con la muestra post-política. \n",
    "\n",
    "En cada caso, se calculará también un contraste no paramétrico que permita verificar si cada muestra proviene de **una distribución normal**. Se empleará **el test de Shapiro-Wilk**."
   ]
  },
  {
   "cell_type": "code",
   "execution_count": 12,
   "id": "89ccf618",
   "metadata": {},
   "outputs": [
    {
     "name": "stdout",
     "output_type": "stream",
     "text": [
      "Media: 402269, Desviación estándar: 30686, CV:  7%\n"
     ]
    },
    {
     "data": {
      "image/png": "[encoded data removed]",
      "text/plain": [
       "<Figure size 640x480 with 1 Axes>"
      ]
     },
     "metadata": {},
     "output_type": "display_data"
    }
   ],
   "source": [
    "mean = dataset_completo[0].mean()\n",
    "std = dataset_completo[0].std()\n",
    "cv = std/mean * 100\n",
    "print(\"Media: %2d, Desviación estándar: %2d, CV: %2d%%\" % (mean, std, cv)) \n",
    "plt.hist(dataset_completo[0], bins='auto', density=True, alpha=0.6, color='b')\n",
    "xmin, xmax = plt.xlim()\n",
    "x = np.linspace(xmin, xmax, 100)\n",
    "p = sci.stats.norm.pdf(x, mean, std)\n",
    " \n",
    "plt.plot(x, p, 'k', linewidth=2)\n",
    "title = \"Distribución de la primera muestra (pre-política)\"\n",
    "plt.title(title)\n",
    " \n",
    "plt.show()"
   ]
  },
  {
   "cell_type": "code",
   "execution_count": 13,
   "id": "3e04543c",
   "metadata": {},
   "outputs": [
    {
     "data": {
      "text/plain": [
       "ShapiroResult(statistic=0.9233753681182861, pvalue=0.032841261476278305)"
      ]
     },
     "execution_count": 13,
     "metadata": {},
     "output_type": "execute_result"
    }
   ],
   "source": [
    "sci.stats.shapiro(dataset_completo[0])"
   ]
  },
  {
   "cell_type": "code",
   "execution_count": 14,
   "id": "618565c7",
   "metadata": {},
   "outputs": [
    {
     "name": "stdout",
     "output_type": "stream",
     "text": [
      "Media: 339289, Desviación estándar: 24320, CV:  7%\n"
     ]
    },
    {
     "data": {
      "image/png": "[encoded data removed]",
      "text/plain": [
       "<Figure size 640x480 with 1 Axes>"
      ]
     },
     "metadata": {},
     "output_type": "display_data"
    }
   ],
   "source": [
    "mean = dataset_completo[1].mean()\n",
    "std = dataset_completo[1].std()\n",
    "cv = std/mean * 100\n",
    "print(\"Media: %2d, Desviación estándar: %2d, CV: %2d%%\" % (mean, std, cv)) \n",
    "plt.hist(dataset_completo[1], bins='auto', density=True, alpha=0.6, color='green')\n",
    "xmin, xmax = plt.xlim()\n",
    "x = np.linspace(xmin, xmax, 100)\n",
    "p = sci.stats.norm.pdf(x, mean, std)\n",
    " \n",
    "plt.plot(x, p, 'k', linewidth=2)\n",
    "title = \"Distribución de la segunda muestra (post-política)\"\n",
    "plt.title(title)\n",
    " \n",
    "plt.show()"
   ]
  },
  {
   "cell_type": "code",
   "execution_count": 15,
   "id": "cd8e3baf",
   "metadata": {},
   "outputs": [
    {
     "data": {
      "text/plain": [
       "ShapiroResult(statistic=0.92477947473526, pvalue=0.0357457660138607)"
      ]
     },
     "execution_count": 15,
     "metadata": {},
     "output_type": "execute_result"
    }
   ],
   "source": [
    "sci.stats.shapiro(dataset_completo[1])"
   ]
  },
  {
   "cell_type": "markdown",
   "id": "cee01784",
   "metadata": {},
   "source": [
    "## REPORTING GENERATIVO"
   ]
  },
  {
   "cell_type": "markdown",
   "id": "56a88b06",
   "metadata": {},
   "source": [
    "En este apartado, se elaborarán varios prompts que nos permitan interactuar con la versión 3.5 Turbo de **GPT**, el modelo en el que se marca el \"popular\" **ChatGPT**."
   ]
  },
  {
   "cell_type": "markdown",
   "id": "61ceef2e",
   "metadata": {},
   "source": [
    "Se utilizarán distintos valores de **temperatura**, en base a los cuales regularemos **la creatividad** de las respuestas (reduciendo, en un orden inversamente proporcional, la acotación determinista de las respuestas generadas)."
   ]
  },
  {
   "cell_type": "markdown",
   "id": "ea783553",
   "metadata": {},
   "source": [
    "### TEMPERATURA 0"
   ]
  },
  {
   "cell_type": "code",
   "execution_count": 16,
   "id": "6f935c3e",
   "metadata": {},
   "outputs": [
    {
     "data": {
      "text/plain": [
       "'Tenemos dos muestras relacionadas sobre el precio de la vivienda (30 elementos cada una). La primera tiene una media de 402269.0 y la segunda, de 339289.4666666667. Si contrastamos que se ha dado un efecto que resulte en que la segunda tenga valores más bajos en promedio, ¿qué podríamos verificar con un contraste de cola derecha? Habríamos obtenido, con una prueba de t-test, un p-valor de 2.733791831725714e-10. Consideramos un nivel de significación del 5%.'"
      ]
     },
     "execution_count": 16,
     "metadata": {},
     "output_type": "execute_result"
    }
   ],
   "source": [
    "prompt = (\"Tenemos dos muestras relacionadas sobre el precio de la vivienda (30 elementos cada una). \"\n",
    "          + \"La primera tiene una media de \" \n",
    "          + str(dataset_completo[0].mean()) + \" y la segunda, de \" + str(dataset_completo[1].mean()) + \". \"\n",
    "          + \"Si contrastamos que se ha dado un efecto que resulte en que la segunda tenga valores más bajos en promedio, \"\n",
    "          + \"¿qué podríamos verificar con un contraste de cola derecha? Habríamos obtenido, con una prueba de t-test, un \"\n",
    "          + \"p-valor de \" + str(res1.pvalue) + \". Consideramos un nivel de significación del 5%.\")\n",
    "prompt"
   ]
  },
  {
   "cell_type": "code",
   "execution_count": 17,
   "id": "0adad0a3",
   "metadata": {},
   "outputs": [
    {
     "data": {
      "text/plain": [
       "'Con un contraste de cola derecha y un nivel de significación del 5%, podríamos verificar si la media de la segunda muestra es significativamente menor que la media de la primera muestra. Dado que el p-valor obtenido es menor que el nivel de significación (2.733791831725714e-10 < 0.05), podemos concluir que hay evidencia estadística para rechazar la hipótesis nula de que las medias son iguales y afirmar que la segunda muestra tiene valores más bajos en promedio que la primera muestra.'"
      ]
     },
     "execution_count": 17,
     "metadata": {},
     "output_type": "execute_result"
    }
   ],
   "source": [
    "raiseQuestion_Prompting(prompt, 0).content"
   ]
  },
  {
   "cell_type": "code",
   "execution_count": 26,
   "id": "176c6817",
   "metadata": {},
   "outputs": [
    {
     "data": {
      "text/plain": [
       "'Si contrastásemos, para esas mismas muestras, un escenario de bilateralidad, obtenemos un p-valor de 5.467583663451428e-10. Tendríamos el mismo nivel de significación que antes. Quizá se cumpla la hipótesis alternativa. Ahora bien, de ser así, ¿Sería complementario este contraste? ¿Basta con aplicar el de cola derecha, de cara a lo que queremos verificar (bajada de precios)?'"
      ]
     },
     "execution_count": 26,
     "metadata": {},
     "output_type": "execute_result"
    }
   ],
   "source": [
    "prompt = (\"Si contrastásemos, para esas mismas muestras, un escenario de bilateralidad, obtenemos un p-valor de \" + str(res3.pvalue) + \". \"\n",
    "         + \"Tendríamos el mismo nivel de significación que antes. Quizá se cumpla la hipótesis alternativa. Ahora bien, de ser así, \"\n",
    "         + \"¿Sería complementario este contraste? ¿Basta con aplicar el de cola derecha, de cara a lo que queremos verificar (bajada de precios)?\")\n",
    "prompt"
   ]
  },
  {
   "cell_type": "code",
   "execution_count": 27,
   "id": "c3cc690e",
   "metadata": {},
   "outputs": [
    {
     "data": {
      "text/plain": [
       "'En este caso, al obtener un p-valor muy bajo en el contraste de bilateralidad, podemos concluir que existe una diferencia significativa en los precios entre las dos muestras. Sin embargo, es importante tener en cuenta que el contraste de bilateralidad no nos indica en qué dirección se encuentra esa diferencia, es decir, no nos dice si los precios han bajado o subido.\\n\\nPara determinar si los precios han bajado, en este caso específico, sería necesario realizar un contraste de cola derecha, ya que estamos interesados en verificar si hay una disminución en los precios. Si al aplicar este contraste obtenemos un p-valor significativo, podríamos concluir que los precios han bajado de manera significativa en las muestras analizadas.\\n\\nEn resumen, el contraste de cola derecha sería complementario al contraste de bilateralidad en este caso, ya que nos permitiría verificar específicamente si ha habido una bajada de precios, en lugar de simplemente detectar una diferencia significativa en los precios.'"
      ]
     },
     "execution_count": 27,
     "metadata": {},
     "output_type": "execute_result"
    }
   ],
   "source": [
    "raiseQuestion_Prompting(prompt, 0).content"
   ]
  },
  {
   "cell_type": "code",
   "execution_count": 34,
   "id": "531f220e",
   "metadata": {},
   "outputs": [
    {
     "data": {
      "text/plain": [
       "'En el caso de asumir definitiva y exclusivamente el contraste de cola derecha, tendríamos, para un nivel de confianza del 95%  un intervalo de confianza tal como ConfidenceInterval(low=51209.461719129955, high=inf). ¿Qué conclusiones interpretativas deberíamos de hacer?'"
      ]
     },
     "execution_count": 34,
     "metadata": {},
     "output_type": "execute_result"
    }
   ],
   "source": [
    "prompt = (\"En el caso de asumir definitiva y exclusivamente el contraste de cola derecha, tendríamos, para un nivel de confianza del 95% \"\n",
    "         + \" un intervalo de confianza tal como \" + str(res1.confidence_interval(confidence_level=0.95)) + \". ¿Qué conclusiones interpretativas deberíamos de hacer?\")\n",
    "prompt"
   ]
  },
  {
   "cell_type": "code",
   "execution_count": 35,
   "id": "2eca6750",
   "metadata": {},
   "outputs": [
    {
     "data": {
      "text/plain": [
       "'Si asumimos definitiva y exclusivamente el contraste de cola derecha, podemos concluir que con un nivel de confianza del 95%, el valor verdadero de la población se encuentra por encima de 51209.461719129955. Esto significa que podemos afirmar con un 95% de confianza que la media poblacional es mayor que este valor.'"
      ]
     },
     "execution_count": 35,
     "metadata": {},
     "output_type": "execute_result"
    }
   ],
   "source": [
    "raiseQuestion_Prompting(prompt, 0).content"
   ]
  },
  {
   "cell_type": "code",
   "execution_count": 46,
   "id": "3143d3f0",
   "metadata": {},
   "outputs": [
    {
     "data": {
      "text/plain": [
       "'¿Se refiere el intervalo de confianza de un contraste de muestras pareadas a la diferencia de medias? Asumiríamos que como mínimo la diferencia está en torno a 51209 (el contraste es unilateral de cola derecha)'"
      ]
     },
     "execution_count": 46,
     "metadata": {},
     "output_type": "execute_result"
    }
   ],
   "source": [
    "prompt = (\"¿Se refiere el intervalo de confianza de un contraste de muestras pareadas a la diferencia de medias?\"\n",
    "          + \" Asumiríamos que como mínimo la diferencia está en torno a 51209 (el contraste es unilateral de cola derecha)\")\n",
    "prompt"
   ]
  },
  {
   "cell_type": "code",
   "execution_count": 47,
   "id": "0257f1d2",
   "metadata": {},
   "outputs": [
    {
     "data": {
      "text/plain": [
       "'Sí, el intervalo de confianza de un contraste de muestras pareadas se refiere a la diferencia de medias entre las dos muestras. En este caso, si el contraste es unilateral de cola derecha y asumimos que la diferencia mínima está en torno a 51209, entonces el intervalo de confianza nos permitirá estimar con cierta certeza que la verdadera diferencia de medias se encuentra por encima de ese valor.'"
      ]
     },
     "execution_count": 47,
     "metadata": {},
     "output_type": "execute_result"
    }
   ],
   "source": [
    "raiseQuestion_Prompting(prompt, 0).content"
   ]
  },
  {
   "cell_type": "code",
   "execution_count": 54,
   "id": "dfa7d371",
   "metadata": {},
   "outputs": [
    {
     "data": {
      "text/plain": [
       "'Se ha generado, para cada una de las muestras, un histograma de frecuencias. Ninguno de ambos sigue la línea de la campana gaussiana. Pero para verificarlo mejor, se ha hecho una prueba de Shapiro-Wilk. En ambos casos obtenemos un p-valor que dista dos centésimas (por debajo) del nivel de significación del 5%. ¿En qué medida podemos negar que ambas muestras provienen de una distribución normal? ¿Hay alguna implicación de cara al emparejamiento previamente considerado entre ambas muestras?'"
      ]
     },
     "execution_count": 54,
     "metadata": {},
     "output_type": "execute_result"
    }
   ],
   "source": [
    "prompt = (\"Se ha generado, para cada una de las muestras, un histograma de frecuencias. Ninguno de ambos sigue la línea de la campana gaussiana. \"\n",
    "         + \"Pero para verificarlo mejor, se ha hecho una prueba de Shapiro-Wilk. En ambos casos obtenemos un p-valor que dista dos centésimas (por debajo) \"\n",
    "         + \"del nivel de significación del 5%. ¿En qué medida podemos negar que ambas muestras provienen de una distribución normal? \"\n",
    "         + \"¿Hay alguna implicación de cara al emparejamiento previamente considerado entre ambas muestras?\")\n",
    "prompt"
   ]
  },
  {
   "cell_type": "code",
   "execution_count": 55,
   "id": "3a27215e",
   "metadata": {},
   "outputs": [
    {
     "data": {
      "text/plain": [
       "'Dado que el p-valor obtenido en la prueba de Shapiro-Wilk está por debajo del nivel de significación del 5%, podemos rechazar la hipótesis nula de que las muestras provienen de una distribución normal. Esto sugiere que las muestras no siguen una distribución normal.\\n\\nEn cuanto al emparejamiento previamente considerado entre ambas muestras, esta información puede tener implicaciones. Si se estaba asumiendo que las muestras seguían una distribución normal para realizar ciertos análisis estadísticos, es posible que estos análisis no sean válidos. En este caso, se debería considerar utilizar métodos estadísticos no paramétricos que no requieran la suposición de normalidad en los datos.'"
      ]
     },
     "execution_count": 55,
     "metadata": {},
     "output_type": "execute_result"
    }
   ],
   "source": [
    "raiseQuestion_Prompting(prompt, 0).content"
   ]
  },
  {
   "cell_type": "markdown",
   "id": "dbb3675b",
   "metadata": {},
   "source": [
    "### TEMPERATURA 0.5"
   ]
  },
  {
   "cell_type": "code",
   "execution_count": 18,
   "id": "a83f1ccc",
   "metadata": {},
   "outputs": [
    {
     "data": {
      "text/plain": [
       "'Tenemos dos muestras relacionadas sobre el precio de la vivienda (30 elementos cada una). La primera tiene una media de 402269.0 y la segunda, de 339289.4666666667. Si contrastamos que se ha dado un efecto que resulte en que la segunda tenga valores más bajos en promedio, ¿qué podríamos verificar con un contraste de cola derecha? Habríamos obtenido, con una prueba de t-test, un p-valor de 2.733791831725714e-10. Consideramos un nivel de significación del 5%.'"
      ]
     },
     "execution_count": 18,
     "metadata": {},
     "output_type": "execute_result"
    }
   ],
   "source": [
    "prompt = (\"Tenemos dos muestras relacionadas sobre el precio de la vivienda (30 elementos cada una). \"\n",
    "          + \"La primera tiene una media de \" \n",
    "          + str(dataset_completo[0].mean()) + \" y la segunda, de \" + str(dataset_completo[1].mean()) + \". \"\n",
    "          + \"Si contrastamos que se ha dado un efecto que resulte en que la segunda tenga valores más bajos en promedio, \"\n",
    "          + \"¿qué podríamos verificar con un contraste de cola derecha? Habríamos obtenido, con una prueba de t-test, un \"\n",
    "          + \"p-valor de \" + str(res1.pvalue) + \". Consideramos un nivel de significación del 5%.\")\n",
    "prompt"
   ]
  },
  {
   "cell_type": "code",
   "execution_count": 19,
   "id": "54c984be",
   "metadata": {},
   "outputs": [
    {
     "data": {
      "text/plain": [
       "'Con un contraste de cola derecha y un p-valor tan bajo (2.733791831725714e-10), podemos concluir que hay evidencia suficiente para rechazar la hipótesis nula de que las medias de ambas muestras son iguales. En este caso, podemos afirmar que la segunda muestra tiene valores más bajos en promedio que la primera muestra, con un nivel de significación del 5%.'"
      ]
     },
     "execution_count": 19,
     "metadata": {},
     "output_type": "execute_result"
    }
   ],
   "source": [
    "raiseQuestion_Prompting(prompt, 0.5).content"
   ]
  },
  {
   "cell_type": "code",
   "execution_count": 28,
   "id": "d63f8969",
   "metadata": {},
   "outputs": [
    {
     "data": {
      "text/plain": [
       "'Si contrastásemos, para esas mismas muestras, un escenario de bilateralidad, obtenemos un p-valor de 5.467583663451428e-10. Tendríamos el mismo nivel de significación que antes. Quizá se cumpla la hipótesis alternativa. Ahora bien, de ser así, ¿Sería complementario este contraste? ¿Basta con aplicar el de cola derecha, de cara a lo que queremos verificar (bajada de precios)?'"
      ]
     },
     "execution_count": 28,
     "metadata": {},
     "output_type": "execute_result"
    }
   ],
   "source": [
    "prompt = (\"Si contrastásemos, para esas mismas muestras, un escenario de bilateralidad, obtenemos un p-valor de \" + str(res3.pvalue) + \". \"\n",
    "         + \"Tendríamos el mismo nivel de significación que antes. Quizá se cumpla la hipótesis alternativa. Ahora bien, de ser así, \"\n",
    "         + \"¿Sería complementario este contraste? ¿Basta con aplicar el de cola derecha, de cara a lo que queremos verificar (bajada de precios)?\")\n",
    "prompt"
   ]
  },
  {
   "cell_type": "code",
   "execution_count": 29,
   "id": "878ca607",
   "metadata": {},
   "outputs": [
    {
     "data": {
      "text/plain": [
       "'En este caso, al obtener un p-valor tan bajo en el contraste de bilateralidad, podemos afirmar con un alto nivel de confianza que existe una diferencia significativa entre las muestras en términos de la variable que estamos analizando (bajada de precios). \\n\\nEn cuanto a si sería complementario este contraste, la respuesta dependerá de la naturaleza de la hipótesis alternativa que estamos evaluando. Si la hipótesis alternativa está formulada en términos de una dirección específica (por ejemplo, una bajada de precios), entonces sería más apropiado utilizar un contraste de cola derecha para evaluar si esta dirección se cumple. \\n\\nEn resumen, en este caso específico, dado el p-valor obtenido en el contraste de bilateralidad y la naturaleza de la hipótesis alternativa, sería adecuado utilizar un contraste de cola derecha para verificar si se cumple la hipótesis de bajada de precios.'"
      ]
     },
     "execution_count": 29,
     "metadata": {},
     "output_type": "execute_result"
    }
   ],
   "source": [
    "raiseQuestion_Prompting(prompt, 0.5).content"
   ]
  },
  {
   "cell_type": "code",
   "execution_count": 36,
   "id": "2bb7f75c",
   "metadata": {},
   "outputs": [
    {
     "data": {
      "text/plain": [
       "'En el caso de asumir definitiva y exclusivamente el contraste de cola derecha, tendríamos, para un nivel de confianza del 95%  un intervalo de confianza tal como ConfidenceInterval(low=51209.461719129955, high=inf). ¿Qué conclusiones interpretativas deberíamos de hacer?'"
      ]
     },
     "execution_count": 36,
     "metadata": {},
     "output_type": "execute_result"
    }
   ],
   "source": [
    "prompt = (\"En el caso de asumir definitiva y exclusivamente el contraste de cola derecha, tendríamos, para un nivel de confianza del 95% \"\n",
    "         + \" un intervalo de confianza tal como \" + str(res1.confidence_interval(confidence_level=0.95)) + \". ¿Qué conclusiones interpretativas deberíamos de hacer?\")\n",
    "prompt"
   ]
  },
  {
   "cell_type": "code",
   "execution_count": 37,
   "id": "1cc30446",
   "metadata": {},
   "outputs": [
    {
     "data": {
      "text/plain": [
       "'En este caso, al asumir que el contraste de cola derecha es el único en consideración, podemos concluir que existe una alta probabilidad de que el verdadero valor de la población sea mayor o igual a 51209.46 con un nivel de confianza del 95%. Esto significa que, en base a nuestra muestra y considerando el margen de error, podemos afirmar con un 95% de confianza que el verdadero valor de la población es al menos igual a 51209.46.'"
      ]
     },
     "execution_count": 37,
     "metadata": {},
     "output_type": "execute_result"
    }
   ],
   "source": [
    "raiseQuestion_Prompting(prompt, 0.5).content"
   ]
  },
  {
   "cell_type": "code",
   "execution_count": 48,
   "id": "a10a807d",
   "metadata": {},
   "outputs": [
    {
     "data": {
      "text/plain": [
       "'¿Se refiere el intervalo de confianza de un contraste de muestras pareadas a la diferencia de medias? Asumiríamos que como mínimo la diferencia está en torno a 51209 (el contraste es unilateral de cola derecha)'"
      ]
     },
     "execution_count": 48,
     "metadata": {},
     "output_type": "execute_result"
    }
   ],
   "source": [
    "prompt = (\"¿Se refiere el intervalo de confianza de un contraste de muestras pareadas a la diferencia de medias?\"\n",
    "          + \" Asumiríamos que como mínimo la diferencia está en torno a 51209 (el contraste es unilateral de cola derecha)\")\n",
    "prompt"
   ]
  },
  {
   "cell_type": "code",
   "execution_count": 49,
   "id": "410c45a6",
   "metadata": {},
   "outputs": [
    {
     "data": {
      "text/plain": [
       "'Sí, el intervalo de confianza de un contraste de muestras pareadas se refiere a la diferencia de medias entre las dos muestras. En este caso, si el contraste es unilateral de cola derecha y asumimos que la diferencia mínima está en torno a 51209, entonces el intervalo de confianza nos permitirá determinar con cierta probabilidad si la diferencia real entre las medias es mayor a 51209.'"
      ]
     },
     "execution_count": 49,
     "metadata": {},
     "output_type": "execute_result"
    }
   ],
   "source": [
    "raiseQuestion_Prompting(prompt, 0.5).content"
   ]
  },
  {
   "cell_type": "code",
   "execution_count": 56,
   "id": "9c23113e",
   "metadata": {},
   "outputs": [
    {
     "data": {
      "text/plain": [
       "'Se ha generado, para cada una de las muestras, un histograma de frecuencias. Ninguno de ambos sigue la línea de la campana gaussiana. Pero para verificarlo mejor, se ha hecho una prueba de Shapiro-Wilk. En ambos casos obtenemos un p-valor que dista dos centésimas (por debajo) del nivel de significación del 5%. ¿En qué medida podemos negar que ambas muestras provienen de una distribución normal? ¿Hay alguna implicación de cara al emparejamiento previamente considerado entre ambas muestras?'"
      ]
     },
     "execution_count": 56,
     "metadata": {},
     "output_type": "execute_result"
    }
   ],
   "source": [
    "prompt = (\"Se ha generado, para cada una de las muestras, un histograma de frecuencias. Ninguno de ambos sigue la línea de la campana gaussiana. \"\n",
    "         + \"Pero para verificarlo mejor, se ha hecho una prueba de Shapiro-Wilk. En ambos casos obtenemos un p-valor que dista dos centésimas (por debajo) \"\n",
    "         + \"del nivel de significación del 5%. ¿En qué medida podemos negar que ambas muestras provienen de una distribución normal? \"\n",
    "         + \"¿Hay alguna implicación de cara al emparejamiento previamente considerado entre ambas muestras?\")\n",
    "prompt"
   ]
  },
  {
   "cell_type": "code",
   "execution_count": 57,
   "id": "3c5c4dc9",
   "metadata": {},
   "outputs": [
    {
     "data": {
      "text/plain": [
       "'Dado que el p-valor obtenido en la prueba de Shapiro-Wilk está por debajo del nivel de significación del 5%, podemos rechazar la hipótesis nula de que las muestras provienen de una distribución normal. Esto sugiere que las muestras no siguen una distribución normal.\\n\\nEn cuanto al emparejamiento previamente considerado entre ambas muestras, esto podría implicar que los supuestos de normalidad no se cumplen, lo cual puede afectar la validez de ciertos análisis estadísticos que se basan en la normalidad de los datos, como por ejemplo pruebas paramétricas. En este caso, sería recomendable considerar métodos no paramétricos para el análisis de las muestras.'"
      ]
     },
     "execution_count": 57,
     "metadata": {},
     "output_type": "execute_result"
    }
   ],
   "source": [
    "raiseQuestion_Prompting(prompt, 0.5).content"
   ]
  },
  {
   "cell_type": "markdown",
   "id": "e36cbccb",
   "metadata": {},
   "source": [
    "### TEMPERATURA 1"
   ]
  },
  {
   "cell_type": "code",
   "execution_count": 20,
   "id": "86ea2694",
   "metadata": {},
   "outputs": [
    {
     "data": {
      "text/plain": [
       "'Tenemos dos muestras relacionadas sobre el precio de la vivienda (30 elementos cada una). La primera tiene una media de 402269.0 y la segunda, de 339289.4666666667. Si contrastamos que se ha dado un efecto que resulte en que la segunda tenga valores más bajos en promedio, ¿qué podríamos verificar con un contraste de cola derecha? Habríamos obtenido, con una prueba de t-test, un p-valor de 2.733791831725714e-10. Consideramos un nivel de significación del 5%.'"
      ]
     },
     "execution_count": 20,
     "metadata": {},
     "output_type": "execute_result"
    }
   ],
   "source": [
    "prompt = (\"Tenemos dos muestras relacionadas sobre el precio de la vivienda (30 elementos cada una). \"\n",
    "          + \"La primera tiene una media de \" \n",
    "          + str(dataset_completo[0].mean()) + \" y la segunda, de \" + str(dataset_completo[1].mean()) + \". \"\n",
    "          + \"Si contrastamos que se ha dado un efecto que resulte en que la segunda tenga valores más bajos en promedio, \"\n",
    "          + \"¿qué podríamos verificar con un contraste de cola derecha? Habríamos obtenido, con una prueba de t-test, un \"\n",
    "          + \"p-valor de \" + str(res1.pvalue) + \". Consideramos un nivel de significación del 5%.\")\n",
    "prompt"
   ]
  },
  {
   "cell_type": "code",
   "execution_count": 21,
   "id": "c30ea82e",
   "metadata": {},
   "outputs": [
    {
     "data": {
      "text/plain": [
       "'Con un contraste de cola derecha con un nivel de significación del 5%, podríamos verificar si la media de la segunda muestra es significativamente menor que la media de la primera muestra. Dado que el p-valor obtenido es menor que el nivel de significación (2.733791831725714e-10 < 0.05), rechazaríamos la hipótesis nula de que no hay diferencia en los precios de las viviendas entre ambas muestras. Esto nos llevaría a concluir que, efectivamente, ha habido un efecto que ha provocado que los precios en la segunda muestra sean más bajos en promedio que en la primera muestra.'"
      ]
     },
     "execution_count": 21,
     "metadata": {},
     "output_type": "execute_result"
    }
   ],
   "source": [
    "raiseQuestion_Prompting(prompt, 1).content"
   ]
  },
  {
   "cell_type": "code",
   "execution_count": 30,
   "id": "8085018b",
   "metadata": {},
   "outputs": [
    {
     "data": {
      "text/plain": [
       "'Si contrastásemos, para esas mismas muestras, un escenario de bilateralidad, obtenemos un p-valor de 5.467583663451428e-10. Tendríamos el mismo nivel de significación que antes. Quizá se cumpla la hipótesis alternativa. Ahora bien, de ser así, ¿Sería complementario este contraste? ¿Basta con aplicar el de cola derecha, de cara a lo que queremos verificar (bajada de precios)?'"
      ]
     },
     "execution_count": 30,
     "metadata": {},
     "output_type": "execute_result"
    }
   ],
   "source": [
    "prompt = (\"Si contrastásemos, para esas mismas muestras, un escenario de bilateralidad, obtenemos un p-valor de \" + str(res3.pvalue) + \". \"\n",
    "         + \"Tendríamos el mismo nivel de significación que antes. Quizá se cumpla la hipótesis alternativa. Ahora bien, de ser así, \"\n",
    "         + \"¿Sería complementario este contraste? ¿Basta con aplicar el de cola derecha, de cara a lo que queremos verificar (bajada de precios)?\")\n",
    "prompt"
   ]
  },
  {
   "cell_type": "code",
   "execution_count": 31,
   "id": "3cb55c91",
   "metadata": {},
   "outputs": [
    {
     "data": {
      "text/plain": [
       "'En este caso, al obtener un p-valor muy bajo en el escenario de bilateralidad, se sigue teniendo un nivel significativo de evidencia para rechazar la hipótesis nula. Sin embargo, la interpretación de los resultados podría variar ligeramente.\\n\\nEn el caso de un contraste de una cola, se estaría comprobando si hay evidencia suficiente para afirmar que los precios han bajado. Mientras que en el caso de un contraste de dos colas, se estaría comprobando si hay evidencia suficiente para afirmar que los precios han disminuido o aumentado.\\n\\nEn este contexto, si se cumple la hipótesis alternativa y se confirma que los precios han bajado, se podría interpretar como un resultado complementario en ambos casos. Sin embargo, es importante considerar la dirección de la hipótesis alternativa y seleccionar el tipo de contraste adecuado de acuerdo al objetivo de la investigación y la pregunta que se quiere responder.'"
      ]
     },
     "execution_count": 31,
     "metadata": {},
     "output_type": "execute_result"
    }
   ],
   "source": [
    "raiseQuestion_Prompting(prompt, 1).content"
   ]
  },
  {
   "cell_type": "code",
   "execution_count": 38,
   "id": "69360220",
   "metadata": {},
   "outputs": [
    {
     "data": {
      "text/plain": [
       "'En el caso de asumir definitiva y exclusivamente el contraste de cola derecha, tendríamos, para un nivel de confianza del 95%  un intervalo de confianza tal como ConfidenceInterval(low=51209.461719129955, high=inf). ¿Qué conclusiones interpretativas deberíamos de hacer?'"
      ]
     },
     "execution_count": 38,
     "metadata": {},
     "output_type": "execute_result"
    }
   ],
   "source": [
    "prompt = (\"En el caso de asumir definitiva y exclusivamente el contraste de cola derecha, tendríamos, para un nivel de confianza del 95% \"\n",
    "         + \" un intervalo de confianza tal como \" + str(res1.confidence_interval(confidence_level=0.95)) + \". ¿Qué conclusiones interpretativas deberíamos de hacer?\")\n",
    "prompt"
   ]
  },
  {
   "cell_type": "code",
   "execution_count": 39,
   "id": "237afe01",
   "metadata": {},
   "outputs": [
    {
     "data": {
      "text/plain": [
       "'Si asumimos definitiva y exclusivamente el contraste de cola derecha con un nivel de confianza del 95%, significa que estamos seguros al 95% de que el valor verdadero de la variable de interés está por encima del límite superior del intervalo de confianza dado, que en este caso es infinito. \\n\\nEsto podría interpretarse como que existe una alta probabilidad de que el valor de la variable esté significativamente por encima del límite superior establecido, lo cual puede ser indicativo de un resultado positivo, una maximización o un incremento en la métrica considerada. Sin embargo, al tener un límite superior infinito, la precisión de esta conclusión se ve afectada y podría necesitar de un ajuste para ser más específica y útil en la toma de decisiones.'"
      ]
     },
     "execution_count": 39,
     "metadata": {},
     "output_type": "execute_result"
    }
   ],
   "source": [
    "raiseQuestion_Prompting(prompt, 1).content"
   ]
  },
  {
   "cell_type": "code",
   "execution_count": 50,
   "id": "6302ab21",
   "metadata": {},
   "outputs": [
    {
     "data": {
      "text/plain": [
       "'¿Se refiere el intervalo de confianza de un contraste de muestras pareadas a la diferencia de medias? Asumiríamos que como mínimo la diferencia está en torno a 51209 (el contraste es unilateral de cola derecha)'"
      ]
     },
     "execution_count": 50,
     "metadata": {},
     "output_type": "execute_result"
    }
   ],
   "source": [
    "prompt = (\"¿Se refiere el intervalo de confianza de un contraste de muestras pareadas a la diferencia de medias?\"\n",
    "          + \" Asumiríamos que como mínimo la diferencia está en torno a 51209 (el contraste es unilateral de cola derecha)\")\n",
    "prompt"
   ]
  },
  {
   "cell_type": "code",
   "execution_count": 51,
   "id": "b3fb29ba",
   "metadata": {},
   "outputs": [
    {
     "data": {
      "text/plain": [
       "'Sí, el intervalo de confianza de un contraste de muestras pareadas se refiere a la diferencia de medias entre las dos muestras. En este caso, si el contraste es unilateral de cola derecha y asumimos que la diferencia de medias es como mínimo 51209, se estaría considerando que la diferencia de medias es mayor o igual a este valor. El intervalo de confianza nos daría una estimación de la precisión de esta diferencia de medias y nos permitiría determinar si el valor de 51209 está dentro de este intervalo con cierto nivel de confianza.'"
      ]
     },
     "execution_count": 51,
     "metadata": {},
     "output_type": "execute_result"
    }
   ],
   "source": [
    "raiseQuestion_Prompting(prompt, 1).content"
   ]
  },
  {
   "cell_type": "code",
   "execution_count": 58,
   "id": "b553a1d7",
   "metadata": {},
   "outputs": [
    {
     "data": {
      "text/plain": [
       "'Se ha generado, para cada una de las muestras, un histograma de frecuencias. Ninguno de ambos sigue la línea de la campana gaussiana. Pero para verificarlo mejor, se ha hecho una prueba de Shapiro-Wilk. En ambos casos obtenemos un p-valor que dista dos centésimas (por debajo) del nivel de significación del 5%. ¿En qué medida podemos negar que ambas muestras provienen de una distribución normal? ¿Hay alguna implicación de cara al emparejamiento previamente considerado entre ambas muestras?'"
      ]
     },
     "execution_count": 58,
     "metadata": {},
     "output_type": "execute_result"
    }
   ],
   "source": [
    "prompt = (\"Se ha generado, para cada una de las muestras, un histograma de frecuencias. Ninguno de ambos sigue la línea de la campana gaussiana. \"\n",
    "         + \"Pero para verificarlo mejor, se ha hecho una prueba de Shapiro-Wilk. En ambos casos obtenemos un p-valor que dista dos centésimas (por debajo) \"\n",
    "         + \"del nivel de significación del 5%. ¿En qué medida podemos negar que ambas muestras provienen de una distribución normal? \"\n",
    "         + \"¿Hay alguna implicación de cara al emparejamiento previamente considerado entre ambas muestras?\")\n",
    "prompt"
   ]
  },
  {
   "cell_type": "code",
   "execution_count": 59,
   "id": "2524ee7c",
   "metadata": {},
   "outputs": [
    {
     "data": {
      "text/plain": [
       "'Dado que el p-valor obtenido en la prueba de Shapiro-Wilk es ligeramente inferior al nivel de significación del 5%, podemos afirmar que hay evidencia suficiente para rechazar la hipótesis nula de que las muestras provienen de una distribución normal. Esto indica que las muestras no siguen un patrón de distribución gaussiana.\\n\\nEn cuanto al emparejamiento previamente considerado entre ambas muestras, esta falta de normalidad en los datos puede tener implicaciones en los análisis estadísticos que se realicen posteriormente. Es importante tener en cuenta que muchos métodos estadísticos asumen la normalidad de los datos, por lo que es posible que los resultados obtenidos no sean del todo válidos si las muestras no siguen una distribución normal. En este caso, será necesario considerar métodos alternativos que sean más apropiados para datos no gaussianos.'"
      ]
     },
     "execution_count": 59,
     "metadata": {},
     "output_type": "execute_result"
    }
   ],
   "source": [
    "raiseQuestion_Prompting(prompt, 1).content"
   ]
  },
  {
   "cell_type": "code",
   "execution_count": 60,
   "id": "5e04f6c8",
   "metadata": {},
   "outputs": [
    {
     "data": {
      "text/plain": [
       "'Si ninguna de las muestras proviene de una distribución normal, ¿cómo deberíamos de interpretar los resultados del contraste de cola derecha para muestras emparejadas? Hablamos de los mismos elementos, antes y después de unas políticas concretas (tiempos distintos)'"
      ]
     },
     "execution_count": 60,
     "metadata": {},
     "output_type": "execute_result"
    }
   ],
   "source": [
    "prompt = (\"Si ninguna de las muestras proviene de una distribución normal, \"\n",
    "          + \"¿cómo deberíamos de interpretar los resultados del contraste de cola derecha para muestras emparejadas? \" \n",
    "          + \"Hablamos de los mismos elementos, antes y después de unas políticas concretas (tiempos distintos)\")\n",
    "prompt"
   ]
  },
  {
   "cell_type": "code",
   "execution_count": 61,
   "id": "8905dd83",
   "metadata": {},
   "outputs": [
    {
     "data": {
      "text/plain": [
       "'En este caso, si ninguna de las muestras proviene de una distribución normal, la interpretación de los resultados del contraste de cola derecha para muestras emparejadas se verá afectada. Las pruebas estadísticas paramétricas, como el contraste de cola derecha para muestras emparejadas, asumen que los datos siguen una distribución normal.\\n\\nSi las muestras no siguen una distribución normal, se recomienda utilizar pruebas estadísticas no paramétricas, como la prueba de Wilcoxon para muestras emparejadas. Esta prueba es una alternativa robusta que no requiere que los datos sigan una distribución normal.\\n\\nPor lo tanto, si ninguna de las muestras proviene de una distribución normal, es importante realizar un análisis no paramétrico y considerar los resultados de manera más conservadora, ya que los supuestos de las pruebas paramétricas no se cumplen.'"
      ]
     },
     "execution_count": 61,
     "metadata": {},
     "output_type": "execute_result"
    }
   ],
   "source": [
    "raiseQuestion_Prompting(prompt, 1).content"
   ]
  },
  {
   "cell_type": "markdown",
   "id": "583f5eec",
   "metadata": {},
   "source": [
    "### OBSERVACIONES"
   ]
  },
  {
   "cell_type": "markdown",
   "id": "74eb0fb7",
   "metadata": {},
   "source": [
    "Se puede observar que, a medida que aumentamos la temperatura, **más extensas y elaboradas son las respuestas**.\n",
    "\n",
    "En este caso, en el rango considerado, no se ha detectado **ninguna alucinación considerable**. Más bien, hemos de prestar atención a la sugerencia, **con temperatura 1**, en relación **al empleo de la prueba de Wilcoxon** al no cumplirse los supuestos de normalidad.\n",
    "\n",
    "Efectivamente, **se trata de una prueba no paramétrica** que es **alternativa a la prueba de t-Student**, al no poder asumir **la normalidad de las muestras**. A continuación, se aplicará la misma (en escenarios de bilateralidad y unilateralidad, respectivamente)."
   ]
  },
  {
   "cell_type": "markdown",
   "id": "2677f3d1",
   "metadata": {},
   "source": [
    "#### CÁLCULO DE LA PRUEBA DE WILCOXON"
   ]
  },
  {
   "cell_type": "code",
   "execution_count": 64,
   "id": "17d867e9",
   "metadata": {},
   "outputs": [
    {
     "name": "stdout",
     "output_type": "stream",
     "text": [
      "WilcoxonResult(statistic=1.0, pvalue=3.725290298461914e-09)\n"
     ]
    }
   ],
   "source": [
    "res_bil = sci.stats.wilcoxon(dataset_completo[0], dataset_completo[1], axis=0, alternative='two-sided')\n",
    "print(res_bil)"
   ]
  },
  {
   "cell_type": "code",
   "execution_count": 66,
   "id": "417c6d4a",
   "metadata": {},
   "outputs": [
    {
     "name": "stdout",
     "output_type": "stream",
     "text": [
      "WilcoxonResult(statistic=464.0, pvalue=0.9999999990686774)\n"
     ]
    }
   ],
   "source": [
    "res_uizq = sci.stats.wilcoxon(dataset_completo[0], dataset_completo[1], axis=0, alternative='less')\n",
    "print(res_uizq)"
   ]
  },
  {
   "cell_type": "code",
   "execution_count": 65,
   "id": "b00ea4db",
   "metadata": {},
   "outputs": [
    {
     "name": "stdout",
     "output_type": "stream",
     "text": [
      "WilcoxonResult(statistic=464.0, pvalue=1.862645149230957e-09)\n"
     ]
    }
   ],
   "source": [
    "res_uder = sci.stats.wilcoxon(dataset_completo[0], dataset_completo[1], axis=0, alternative='greater')\n",
    "print(res_uder)"
   ]
  },
  {
   "cell_type": "markdown",
   "id": "4f96499a",
   "metadata": {},
   "source": [
    "#### RETORNO AL REPORTING GENERATIVO"
   ]
  },
  {
   "cell_type": "markdown",
   "id": "ae954dc1",
   "metadata": {},
   "source": [
    "Se generarán respuestas con cada uno de los valores de temperatura propuestos antes:"
   ]
  },
  {
   "cell_type": "code",
   "execution_count": 69,
   "id": "301538bc",
   "metadata": {},
   "outputs": [
    {
     "data": {
      "text/plain": [
       "'Sobre estas mismas muestras, hemos aplicado la prueba de Wilcoxon. Los contrastes de unilateralidad de cola derecha  y de bilateralidad son los que nos retornan un p-valor que está por debajo del nivel de significación (5%). ¿Podemos corroborar con esta prueba la influencia del efecto sobre el precio de las viviendas debido a cierta política?'"
      ]
     },
     "execution_count": 69,
     "metadata": {},
     "output_type": "execute_result"
    }
   ],
   "source": [
    "prompt = (\"Sobre estas mismas muestras, hemos aplicado la prueba de Wilcoxon. Los contrastes de unilateralidad de cola derecha \"\n",
    "         + \" y de bilateralidad son los que nos retornan un p-valor que está por debajo del nivel de significación (5%). \"\n",
    "         + \"¿Podemos corroborar con esta prueba la influencia del efecto sobre el precio de las viviendas debido a cierta política?\")\n",
    "prompt"
   ]
  },
  {
   "cell_type": "code",
   "execution_count": 70,
   "id": "f842ade0",
   "metadata": {},
   "outputs": [
    {
     "data": {
      "text/plain": [
       "'La prueba de Wilcoxon es una prueba no paramétrica que se utiliza para comparar dos muestras independientes y determinar si hay una diferencia significativa entre ellas. En este caso, si los contrastes de unilateralidad de cola derecha y de bilateralidad arrojan un p-valor por debajo del nivel de significación (5%), significa que hay evidencia estadística para rechazar la hipótesis nula de que no hay diferencia entre las muestras.\\n\\nSin embargo, la prueba de Wilcoxon por sí sola no puede determinar la influencia de un efecto sobre el precio de las viviendas debido a cierta política. Para poder afirmar que la política tiene un efecto significativo sobre el precio de las viviendas, se necesitaría realizar un análisis más detallado que tenga en cuenta otros factores que puedan influir en el precio de las viviendas, como la ubicación, el tamaño, la calidad de la construcción, entre otros.\\n\\nPor lo tanto, aunque la prueba de Wilcoxon pueda indicar que hay una diferencia significativa en los precios de las viviendas antes y después de la implementación de cierta política, se necesitaría realizar un análisis más exhaustivo para poder afirmar con certeza que la política tiene un efecto significativo sobre el precio de las viviendas.'"
      ]
     },
     "execution_count": 70,
     "metadata": {},
     "output_type": "execute_result"
    }
   ],
   "source": [
    "raiseQuestion_Prompting(prompt, 0).content"
   ]
  },
  {
   "cell_type": "code",
   "execution_count": 71,
   "id": "7cdb40a1",
   "metadata": {},
   "outputs": [
    {
     "data": {
      "text/plain": [
       "'No podemos afirmar con certeza que la influencia del efecto sobre el precio de las viviendas se deba a una cierta política basándonos únicamente en los resultados de la prueba de Wilcoxon. Si bien es cierto que un p-valor por debajo del nivel de significación puede indicar que hay una diferencia significativa en los precios de las viviendas, no podemos atribuir esta diferencia únicamente a una política específica sin considerar otros factores que puedan estar influyendo en los resultados.\\n\\nEs importante realizar un análisis más detallado y considerar otros factores que puedan estar afectando los precios de las viviendas antes de atribuir la influencia del efecto a una política en particular. Se recomienda realizar un estudio más exhaustivo que tenga en cuenta todas las variables relevantes antes de sacar conclusiones definitivas sobre la influencia de una política en los precios de las viviendas.'"
      ]
     },
     "execution_count": 71,
     "metadata": {},
     "output_type": "execute_result"
    }
   ],
   "source": [
    "raiseQuestion_Prompting(prompt, 0.5).content"
   ]
  },
  {
   "cell_type": "code",
   "execution_count": 72,
   "id": "ffbe1bac",
   "metadata": {},
   "outputs": [
    {
     "data": {
      "text/plain": [
       "'La prueba de Wilcoxon es una prueba no paramétrica que se utiliza para comparar dos muestras independientes y determinar si existen diferencias significativas entre ellas. En el caso de que los contrastes de unilateralidad de cola derecha y de bilateralidad hayan arrojado un p-valor por debajo del nivel de significación del 5%, significa que existe evidencia estadística de que las diferencias entre las muestras son significativas.\\n\\nSin embargo, para poder afirmar que la política en cuestión ha tenido una influencia sobre el precio de las viviendas, es necesario realizar un análisis más detallado que incluya otros factores que puedan influir en el precio de las viviendas, como por ejemplo la ubicación, el tamaño, la calidad de la vivienda, entre otros.\\n\\nPor lo tanto, si los resultados de la prueba de Wilcoxon son consistentes con la teoría detrás de la política y si se ha tenido en cuenta otros factores relevantes, entonces se podría inferir que efectivamente la política ha tenido influencia sobre el precio de las viviendas. Sin embargo, es importante tener en cuenta que los resultados de una única prueba estadística por sí solos no son suficientes para confirmar la influencia de un efecto sobre el precio de las viviendas.'"
      ]
     },
     "execution_count": 72,
     "metadata": {},
     "output_type": "execute_result"
    }
   ],
   "source": [
    "raiseQuestion_Prompting(prompt, 1).content"
   ]
  },
  {
   "cell_type": "markdown",
   "id": "3c26e857",
   "metadata": {},
   "source": [
    "## CONCLUSIONES"
   ]
  },
  {
   "cell_type": "markdown",
   "id": "4e6aa1e2",
   "metadata": {},
   "source": [
    "Una vez hecho el estudio, se puede decir, tras haber calculado ciertos estadísticos y recurrido a la asistencia del prompting, que **la aplicación de cierta estrategia ha dado lugar a un descenso en los precios**. Ahora bien, **no habría considerable heterogeneidad en ninguna de las dos muestras** (si atendemos al coeficiente de Pearson), pero **tampoco se puede aseverar, al no responderse a una distribución normal** que **la mayoría de valores estén en torno a las correspondientes medias**."
   ]
  }
 ],
 "metadata": {
  "kernelspec": {
   "display_name": "Python 3 (ipykernel)",
   "language": "python",
   "name": "python3"
  },
  "language_info": {
   "codemirror_mode": {
    "name": "ipython",
    "version": 3
   },
   "file_extension": ".py",
   "mimetype": "text/x-python",
   "name": "python",
   "nbconvert_exporter": "python",
   "pygments_lexer": "ipython3",
   "version": "3.11.5"
  }
 },
 "nbformat": 4,
 "nbformat_minor": 5
}
